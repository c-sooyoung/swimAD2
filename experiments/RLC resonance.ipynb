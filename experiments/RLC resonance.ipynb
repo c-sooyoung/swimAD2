{
 "cells": [
  {
   "cell_type": "markdown",
   "metadata": {},
   "source": [
    "# RLC resonance experiment\n",
    "2022년 김현수, 명하진, 정수영, 최이선"
   ]
  },
  {
   "cell_type": "code",
   "execution_count": null,
   "metadata": {},
   "outputs": [],
   "source": [
    "import numpy as np\n",
    "import matplotlib.pyplot as plt\n",
    "from scipy.optimize import curve_fit\n",
    "from tqdm import tqdm\n",
    "\n",
    "import swimAD2 as ad2\n",
    "import time\n",
    "\n",
    "plt.rcParams.update({\n",
    "    'figure.figsize': (4, 4),\n",
    "    'figure.dpi': 144,\n",
    "    'lines.markersize': 3,\n",
    "\n",
    "    'axes.facecolor': 'white',\n",
    "    'figure.facecolor': 'white'\n",
    "})\n",
    "\n",
    "ad2.disconnect()    # close all instances before connecting\n",
    "alice = ad2.connect(0)       # connect to ad2"
   ]
  },
  {
   "cell_type": "code",
   "execution_count": null,
   "metadata": {},
   "outputs": [],
   "source": [
    "def calculate_R(raw_data, regressed):\n",
    "    sse = np.sum(np.square(raw_data - regressed))\n",
    "    sst = np.sum(np.square(raw_data - raw_data.mean()))\n",
    "    return 1 - sse/sst\n",
    "\n",
    "def fit(f, xdata, ydata, plot=False, **kwargs):\n",
    "\n",
    "    xdata = np.array(xdata).flatten()\n",
    "    ydata = np.array(ydata).flatten()\n",
    "    \n",
    "    if plot:\n",
    "        plt.plot(xdata, ydata, 'k.')\n",
    "        if 'sigma' in kwargs:\n",
    "            plt.errorbar(xdata, ydata, kwargs['sigma'], fmt='none', c='k')\n",
    "\n",
    "    popt, pcov = curve_fit(f, xdata, ydata, **kwargs)\n",
    "    perr = np.sqrt(np.diag(pcov))\n",
    "\n",
    "    R = calculate_R(ydata, f(xdata, *popt))\n",
    "\n",
    "    if plot:\n",
    "        xlim, ylim = plt.xlim(), plt.ylim()\n",
    "        plt.xlim(*xlim)\n",
    "        plt.ylim(*ylim)\n",
    "        x = np.linspace(*xlim, 100)\n",
    "        plt.plot(x, f(x, *popt), 'r--')\n",
    "        plt.show()\n",
    "\n",
    "    return popt, perr, R"
   ]
  },
  {
   "cell_type": "code",
   "execution_count": null,
   "metadata": {},
   "outputs": [],
   "source": [
    "# resonance amplitude ratio\n",
    "def D(w, w_0, A, gamma):\n",
    "    return A * w / np.sqrt((w_0*w_0 - w*w)*(w_0*w_0 - w*w) + (gamma*w)*(gamma*w))\n",
    "\n",
    "# phase difference\n",
    "def delta(w, w_0, gamma):\n",
    "    return np.arctan(gamma * w / (w_0**2 - w**2)) % np.pi - np.pi / 2"
   ]
  },
  {
   "cell_type": "code",
   "execution_count": null,
   "metadata": {},
   "outputs": [],
   "source": [
    "frequencies = np.linspace(150e3, 250e3, 50)"
   ]
  },
  {
   "cell_type": "code",
   "execution_count": null,
   "metadata": {},
   "outputs": [],
   "source": [
    "DATA = []\n",
    "\n",
    "for f in tqdm(frequencies):\n",
    "\n",
    "    ad2.config_output(alice, frequency=f, amplitude=1, offset=0, channel=0)\n",
    "    ad2.start_output(alice, channel=0)\n",
    "\n",
    "    time.sleep(0.05)\n",
    "\n",
    "    ad2.config_input(alice, range1=3, range2=3, sample_rate=512*f)\n",
    "    \n",
    "    t, v1, v2 = ad2.measure(alice)\n",
    "\n",
    "    ad2.stop_output(alice, channel=-1)\n",
    "        \n",
    "    nv1, nv2 = v1 - v1.mean(), v2 - v2.mean()\n",
    "    data = np.array([t, v1, v2, nv1, nv2])\n",
    "\n",
    "    DATA.append(data)\n",
    "    \n",
    "    ad2.reset_output(alice)\n",
    "\n",
    "DATA = np.array(DATA)\n",
    "\n",
    "\n",
    "ratios, phases = [], []\n",
    "\n",
    "for data in DATA:\n",
    "    t, v1, v2, nv1, nv2 = data\n",
    "    \n",
    "    v1_amplitude = np.sqrt(2) * (nv1**2).mean()**(1/2)\n",
    "    v2_amplitude = np.sqrt(2) * (nv2**2).mean()**(1/2)\n",
    "    ratio = v2_amplitude / v1_amplitude\n",
    "    ratios.append(ratio)\n",
    "\n",
    "    product = nv1 * nv2\n",
    "    product_amplitude = v1_amplitude * v2_amplitude / 2\n",
    "    cos_phase = product.mean() / product_amplitude\n",
    "    phase = np.arccos(cos_phase if abs(cos_phase) < 1 else 1)\n",
    "    phases.append(phase)"
   ]
  },
  {
   "cell_type": "code",
   "execution_count": null,
   "metadata": {},
   "outputs": [],
   "source": [
    "freq_coeff, freq_err, freq_R2 = fit(D, frequencies, ratios, plot=True, p0=[frequencies[np.argmax(ratios)], 1, 1])\n",
    "\n",
    "ratio_coeff, ratio_err, ratio_R2 = fit(delta, frequencies, phases, plot=True, p0=[freq_coeff[0], freq_coeff[2]])"
   ]
  }
 ],
 "metadata": {
  "kernelspec": {
   "display_name": "Python 3.9.12 ('base')",
   "language": "python",
   "name": "python3"
  },
  "language_info": {
   "codemirror_mode": {
    "name": "ipython",
    "version": 3
   },
   "file_extension": ".py",
   "mimetype": "text/x-python",
   "name": "python",
   "nbconvert_exporter": "python",
   "pygments_lexer": "ipython3",
   "version": "3.9.12"
  },
  "orig_nbformat": 4,
  "vscode": {
   "interpreter": {
    "hash": "40d3a090f54c6569ab1632332b64b2c03c39dcf918b08424e98f38b5ae0af88f"
   }
  }
 },
 "nbformat": 4,
 "nbformat_minor": 2
}
