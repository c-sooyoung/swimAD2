{
 "cells": [
  {
   "cell_type": "code",
   "execution_count": null,
   "metadata": {},
   "outputs": [],
   "source": [
    "import numpy as np\n",
    "import matplotlib.pyplot as plt\n",
    "from tqdm import tqdm\n",
    "\n",
    "import sys\n",
    "path_to_swimAD2 = '/Users/kiwi/Home/2022/2학기/중급물리실험 2/swimAD2 230103'\n",
    "if path_to_swimAD2 not in sys.path:\n",
    "    sys.path.append(path_to_swimAD2)\n",
    "\n",
    "import swimAD2 as ad2\n",
    "from ctypes import *\n",
    "import time\n",
    "\n",
    "ad2.disconnect()    # close all instances before connecting\n",
    "alice = ad2.connect(0)       # connect to first(0th) ad2"
   ]
  },
  {
   "cell_type": "code",
   "execution_count": null,
   "metadata": {},
   "outputs": [],
   "source": [
    "# Easiest to use: ad2.basic_measure()\n",
    "t, v1, v2 = ad2.basic_measure(\n",
    "    # device\n",
    "    hdwf = alice,\n",
    "\n",
    "    # wavegen settings\n",
    "    frequency = 10e3,               # max 10 MHz\n",
    "    amplitude = 1,                  # max 5 V\n",
    "    sample_rate = 1000e3,           # max 100 MHz\n",
    "\n",
    "    # oscilloscope settings\n",
    "    range1 = 2,                     # Oscilloscope Channel 1 voltage range, max 25 V\n",
    "    range2 = 2,                     # Oscilloscope Channel 2\n",
    "\n",
    "    # additional parameters\n",
    "    signal_shape = ad2.dwfc.funcSine,   # output signal shape: sine, square, triangle, rampup, rampdown, noise\n",
    "    offset = 0,                                 # signal voltage offset, set stabilizing time > 2 sec if not 0\n",
    "    phase = 0,                                  # signal starting phase\n",
    "    symmetry = 50,                              # signal symmetry shape (default 50)\n",
    "\n",
    "    sample_size = 8192,         # max 8192, sample time = sample_size / sample_rate\n",
    "    stabilizing_time = 0.05,    # stabilize oscilloscope after initial output\n",
    ")"
   ]
  },
  {
   "cell_type": "code",
   "execution_count": null,
   "metadata": {},
   "outputs": [],
   "source": []
  },
  {
   "cell_type": "code",
   "execution_count": null,
   "metadata": {},
   "outputs": [],
   "source": [
    "# more detailed control:\n",
    "# config_output() - start_output() - (stabilizing time if needed) - config_input() - measure() - end_output() - reset_output()\n",
    "\n",
    "ad2.config_output(\n",
    "    # wavegen settings\n",
    "    frequency = 10e3,                              # max 10 MHz\n",
    "    amplitude = 1,                              # max 5 V\n",
    "    # signal_shape = signal_shapes['sine'],   # output signal shape: funcSine, funcSquare, funcTriangle, funcRampUp, funcRampDown, funcNoise\n",
    "    # offset = 0,                             # signal voltage offset, set stabilizing time > 2 sec if not 0\n",
    "    # phase = 0,                              # signal phase\n",
    "    # symmetry = 50,                          # signal symmetry shape\n",
    "    channel = c_int(0)                      # channel 0 / 1 (or -1 for all channels) \n",
    "    )\n",
    "\n",
    "ad2.start_output(channel = c_int(0))\n",
    "\n",
    "time.sleep(0.1)\n",
    "\n",
    "ad2.config_input(\n",
    "    # oscilloscope settings\n",
    "    range1 = 2,                     # Oscilloscope Channel 1 voltage range, max 25 V\n",
    "    range2 = 2,                     # Oscilloscope Channel 2\n",
    "    sample_rate = 1000e3,                # max 100 MHz\n",
    "    sample_size = 8192,         # max 8192, sample time = sample_size / sample_rate\n",
    ")\n",
    "\n",
    "t, v1, v2 = ad2.measure()\n",
    "\n",
    "ad2.end_output(channel = c_int(0))\n",
    "ad2.reset_output(channel = c_int(0))"
   ]
  },
  {
   "cell_type": "code",
   "execution_count": null,
   "metadata": {},
   "outputs": [],
   "source": [
    "amplitudes = [1, 2, 3]\n",
    "frequencies = np.linspace(0.1e6, 0.5e6, 500)[::]\n",
    "offset = -3"
   ]
  },
  {
   "cell_type": "code",
   "execution_count": null,
   "metadata": {},
   "outputs": [],
   "source": [
    "DATA = []\n",
    "\n",
    "for a in amplitudes[::]:\n",
    "    data = []\n",
    "\n",
    "    ad2.config_output(frequency=0, amplitude=0, offset=offset, channel=c_int(1))\n",
    "    ad2.start_output(channel=c_int(1))\n",
    "\n",
    "    time.sleep(0.2)\n",
    "\n",
    "    for f in tqdm(frequencies[::]):\n",
    "        \n",
    "        ad2.config_input(range1=2, range2=a*2, sample_rate=512*f)\n",
    "        ad2.config_output(frequency=f, amplitude=a, channel=c_int(0))\n",
    "        ad2.start_output(channel=c_int(0))\n",
    "\n",
    "        t, v1, v2 = ad2.measure()\n",
    "\n",
    "        ad2.stop_output(channel=c_int(0))\n",
    "        \n",
    "        nv1, nv2 = v1 - v1.mean(), v2 - v2.mean()\n",
    "\n",
    "        dt = np.array([t, v1, v2, nv1, nv2])\n",
    "        data.append(dt)\n",
    "    \n",
    "    DATA.append(data)\n",
    "    \n",
    "    ad2.reset_output()\n",
    "\n",
    "DATA = np.array(DATA)\n",
    "\n",
    "RATIOS, PHASES = [], []\n",
    "for data in DATA:\n",
    "    ratios, phases = [], []\n",
    "    for dt in data[::]:\n",
    "        t, v1, v2, nv1, nv2 = dt\n",
    "\n",
    "        # plt.plot(t, nv1, '.')\n",
    "        # plt.plot(t, nv2, '.')\n",
    "        # plt.ylim(-6, 6)\n",
    "        # plt.show()\n",
    "\n",
    "        v1_amplitude = np.sqrt(2) * (nv1**2).mean()**(1/2)\n",
    "        v2_amplitude = np.sqrt(2) * (nv2**2).mean()**(1/2)\n",
    "        ratio = v2_amplitude / v1_amplitude\n",
    "        ratios.append(ratio)\n",
    "\n",
    "        product = nv1 * nv2\n",
    "        product_amplitude = v1_amplitude * v2_amplitude / 2\n",
    "        cos_phase = product.mean() / product_amplitude\n",
    "        phase = np.arccos(cos_phase if abs(cos_phase) < 1 else 1)\n",
    "        phases.append(phase)\n",
    "\n",
    "    RATIOS.append(ratios)\n",
    "    PHASES.append(phases)\n",
    "\n",
    "RATIOS, PHASES = np.array(RATIOS), np.array(PHASES)"
   ]
  },
  {
   "cell_type": "code",
   "execution_count": null,
   "metadata": {},
   "outputs": [],
   "source": [
    "for i, a in enumerate(amplitudes):\n",
    "    ratios = RATIOS[i]\n",
    "    plt.plot(frequencies, ratios*a, '.', markersize=1)"
   ]
  }
 ],
 "metadata": {
  "kernelspec": {
   "display_name": "Python 3.9.12 ('base')",
   "language": "python",
   "name": "python3"
  },
  "language_info": {
   "codemirror_mode": {
    "name": "ipython",
    "version": 3
   },
   "file_extension": ".py",
   "mimetype": "text/x-python",
   "name": "python",
   "nbconvert_exporter": "python",
   "pygments_lexer": "ipython3",
   "version": "3.9.12"
  },
  "orig_nbformat": 4,
  "vscode": {
   "interpreter": {
    "hash": "40d3a090f54c6569ab1632332b64b2c03c39dcf918b08424e98f38b5ae0af88f"
   }
  }
 },
 "nbformat": 4,
 "nbformat_minor": 2
}
