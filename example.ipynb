{
 "cells": [
  {
   "cell_type": "code",
   "execution_count": null,
   "metadata": {},
   "outputs": [],
   "source": [
    "import numpy as np\n",
    "import matplotlib.pyplot as plt\n",
    "from tqdm import tqdm\n",
    "\n",
    "import swimAD2 as ad2\n",
    "import time\n",
    "\n",
    "ad2.disconnect()            # close all instances before connecting\n",
    "alice = ad2.connect(0)      # connect to first(0th) ad2, give it the name 'alice'"
   ]
  },
  {
   "cell_type": "code",
   "execution_count": null,
   "metadata": {},
   "outputs": [],
   "source": [
    "# typical order\n",
    "# config_wavegen - start_wavegen - (stabilizing time if needed) - config_oscilloscope - start_oscilloscope - end_wavegen - reset_wavegen\n",
    "\n",
    "# configure a sine wave with frequency 10 kHz, amplitude 1 V, on channel 0\n",
    "# commented settings are default values; the frequency and amplitude must be specified.\n",
    "ad2.config_wavegen(\n",
    "    alice,                                    # name of device\n",
    "    frequency=10e3,                           # max 10 MHz\n",
    "    amplitude=1,                              # max 5 V\n",
    "    # signal_shape=ad2.dwfc.funcSine,         # output signal shape: funcSine, funcSquare, funcTriangle, funcRampUp, funcRampDown, funcNoise\n",
    "    # offset=0,                               # signal voltage offset\n",
    "    # phase=0,                                # signal phase\n",
    "    # symmetry=50,                            # signal symmetry shape\n",
    "    # channel=0                               # channel 0 / 1 (or -1 for all channels)\n",
    ")\n",
    "\n",
    "# start the signal on channel 0\n",
    "ad2.start_wavegen(alice, channel=0)\n",
    "\n",
    "# time to stabilize the signal, usually longer time needed if there is an offset voltage\n",
    "time.sleep(0.1)\n",
    "\n",
    "# configure the oscilloscope to measure at 1 MHz = 1000 kHz (= 100 samples/period for a 10 kHz signal)\n",
    "# commented settings are default values; both channels' ranges and the sample rate must be specified.\n",
    "ad2.config_oscilloscope(\n",
    "    alice,                                    # name of device\n",
    "    range1=2,                     # Oscilloscope Channel 1 voltage range, max 25 V\n",
    "    range2=2,                     # Oscilloscope Channel 2\n",
    "    sample_rate=1000e3,           # max 100 MHz\n",
    "    # sample_size=8192,           # max 8192, sample time = sample_size / sample_rate\n",
    ")\n",
    "\n",
    "# start the oscilloscope\n",
    "# the oscilloscope will run until the buffer = sample_size is filled\n",
    "# 't' is not obtained experimentally from the clock on the AD2; it is calculated using the sample rate and sample size.\n",
    "t, v1, v2 = ad2.measure_oscilloscope(alice)\n",
    "\n",
    "ad2.end_wavegen(alice, channel=0)\n",
    "ad2.reset_wavegen(alice, channel=0)\n"
   ]
  },
  {
   "cell_type": "code",
   "execution_count": null,
   "metadata": {},
   "outputs": [],
   "source": [
    "# test plot of result\n",
    "plt.plot(t, v1, '.', markersize=1)\n",
    "plt.plot(t, v2, '.', markersize=1)\n",
    "plt.show()"
   ]
  }
 ],
 "metadata": {
  "kernelspec": {
   "display_name": "Python 3",
   "language": "python",
   "name": "python3"
  },
  "language_info": {
   "codemirror_mode": {
    "name": "ipython",
    "version": 3
   },
   "file_extension": ".py",
   "mimetype": "text/x-python",
   "name": "python",
   "nbconvert_exporter": "python",
   "pygments_lexer": "ipython3",
   "version": "3.10.1 (tags/v3.10.1:2cd268a, Dec  6 2021, 19:10:37) [MSC v.1929 64 bit (AMD64)]"
  },
  "orig_nbformat": 4,
  "vscode": {
   "interpreter": {
    "hash": "25091daca208b8b0cb5ae4edbdac642f2e39f72f63e40e4240b941304db28bbe"
   }
  }
 },
 "nbformat": 4,
 "nbformat_minor": 2
}
